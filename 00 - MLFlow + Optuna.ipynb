{
 "cells": [
  {
   "cell_type": "code",
   "execution_count": 1,
   "id": "5e0f111b",
   "metadata": {},
   "outputs": [],
   "source": [
    "import numpy as np\n",
    "\n",
    "import tensorflow as tf\n",
    "from sklearn.model_selection import train_test_split\n",
    "\n",
    "import mlflow\n",
    "import mlflow.tensorflow\n",
    "import optuna\n",
    "\n",
    "import matplotlib.pyplot as plt\n",
    "plt.style.use('fivethirtyeight')"
   ]
  },
  {
   "cell_type": "code",
   "execution_count": 2,
   "id": "4ba5c2a4",
   "metadata": {},
   "outputs": [],
   "source": [
    "x = np.random.randn(5000)\n",
    "y = x**3 + 2 * np.random.randn(5000)"
   ]
  },
  {
   "cell_type": "code",
   "execution_count": 3,
   "id": "b544784c",
   "metadata": {},
   "outputs": [
    {
     "data": {
      "text/plain": [
       "<matplotlib.collections.PathCollection at 0x163ad526588>"
      ]
     },
     "execution_count": 3,
     "metadata": {},
     "output_type": "execute_result"
    },
    {
     "data": {
      "image/png": "[encoded data removed]",
      "text/plain": [
       "<Figure size 432x288 with 1 Axes>"
      ]
     },
     "metadata": {},
     "output_type": "display_data"
    }
   ],
   "source": [
    "plt.scatter(x, y, alpha=.5)"
   ]
  },
  {
   "cell_type": "code",
   "execution_count": 4,
   "id": "2987bce5",
   "metadata": {},
   "outputs": [],
   "source": [
    "x_train, x_test, y_train, y_test = train_test_split(x, y, train_size=.8)"
   ]
  },
  {
   "cell_type": "code",
   "execution_count": 5,
   "id": "d019eb6c",
   "metadata": {},
   "outputs": [],
   "source": [
    "mlflow.tensorflow.autolog()"
   ]
  },
  {
   "cell_type": "code",
   "execution_count": 6,
   "id": "aa2c0f78",
   "metadata": {
    "scrolled": true
   },
   "outputs": [],
   "source": [
    "def objective(trial):\n",
    "    \n",
    "    with mlflow.start_run():\n",
    "\n",
    "        model = tf.keras.Sequential([\n",
    "\n",
    "            tf.keras.layers.Dense(\n",
    "                16, \n",
    "                input_shape=(1,),\n",
    "                kernel_initializer='lecun_normal',\n",
    "                activation='selu'),\n",
    "\n",
    "            tf.keras.layers.Dense(\n",
    "                32, \n",
    "                kernel_initializer='lecun_normal',\n",
    "                activation='selu'),\n",
    "\n",
    "            tf.keras.layers.Dense(\n",
    "                64, \n",
    "                kernel_initializer='lecun_normal',\n",
    "                activation='selu'),\n",
    "\n",
    "            tf.keras.layers.Dense(\n",
    "                16, \n",
    "                kernel_initializer='lecun_normal',\n",
    "                activation='selu'),\n",
    "\n",
    "            tf.keras.layers.Dense(1)\n",
    "\n",
    "        ])\n",
    "\n",
    "        LEARNING_RATE = trial.suggest_loguniform('lr', 1e-6, 1e-2)\n",
    "        print(LEARNING_RATE)\n",
    "\n",
    "        model.compile(\n",
    "            loss='mse', \n",
    "            optimizer=tf.keras.optimizers.RMSprop(\n",
    "                learning_rate=LEARNING_RATE))\n",
    "\n",
    "        callbacks = [\n",
    "            tf.keras.callbacks.EarlyStopping(patience=20, restore_best_weights=True),\n",
    "            tf.keras.callbacks.ReduceLROnPlateau(patience=4, factor=.5)\n",
    "        ]\n",
    "\n",
    "        history = model.fit(\n",
    "            x_train, \n",
    "            y_train, \n",
    "            validation_data=(x_test, y_test),\n",
    "            epochs=100,\n",
    "            callbacks=callbacks,\n",
    "            verbose=0\n",
    "        )\n",
    "\n",
    "        test_metric = model.evaluate(x_test, y_test)\n",
    "    \n",
    "    return test_metric"
   ]
  },
  {
   "cell_type": "code",
   "execution_count": 7,
   "id": "b37e0d21",
   "metadata": {
    "scrolled": true
   },
   "outputs": [
    {
     "name": "stderr",
     "output_type": "stream",
     "text": [
      "\u001b[32m[I 2022-01-25 13:11:34,888]\u001b[0m A new study created in memory with name: no-name-c78a2cf7-83fe-4771-b896-6320f59e0b38\u001b[0m\n"
     ]
    },
    {
     "name": "stdout",
     "output_type": "stream",
     "text": [
      "4.968120125864347e-06\n",
      "INFO:tensorflow:Assets written to: C:\\Users\\aleks\\AppData\\Local\\Temp\\tmpaja8ue_w\\model\\data\\model\\assets\n",
      "32/32 [==============================] - 0s 2ms/step - loss: 9.7414\n"
     ]
    },
    {
     "name": "stderr",
     "output_type": "stream",
     "text": [
      "\u001b[32m[I 2022-01-25 13:12:41,996]\u001b[0m Trial 0 finished with value: 9.741427421569824 and parameters: {'lr': 4.968120125864347e-06}. Best is trial 0 with value: 9.741427421569824.\u001b[0m\n"
     ]
    },
    {
     "name": "stdout",
     "output_type": "stream",
     "text": [
      "0.001590066429407252\n",
      "INFO:tensorflow:Assets written to: C:\\Users\\aleks\\AppData\\Local\\Temp\\tmp06shs210\\model\\data\\model\\assets\n",
      "32/32 [==============================] - 0s 2ms/step - loss: 4.3713\n"
     ]
    },
    {
     "name": "stderr",
     "output_type": "stream",
     "text": [
      "\u001b[32m[I 2022-01-25 13:13:21,844]\u001b[0m Trial 1 finished with value: 4.3712968826293945 and parameters: {'lr': 0.001590066429407252}. Best is trial 1 with value: 4.3712968826293945.\u001b[0m\n"
     ]
    },
    {
     "name": "stdout",
     "output_type": "stream",
     "text": [
      "5.769334013743867e-06\n",
      "INFO:tensorflow:Assets written to: C:\\Users\\aleks\\AppData\\Local\\Temp\\tmp11iaz3d2\\model\\data\\model\\assets\n",
      "32/32 [==============================] - 0s 2ms/step - loss: 10.2295\n"
     ]
    },
    {
     "name": "stderr",
     "output_type": "stream",
     "text": [
      "\u001b[32m[I 2022-01-25 13:14:24,936]\u001b[0m Trial 2 finished with value: 10.229483604431152 and parameters: {'lr': 5.769334013743867e-06}. Best is trial 1 with value: 4.3712968826293945.\u001b[0m\n"
     ]
    },
    {
     "name": "stdout",
     "output_type": "stream",
     "text": [
      "4.1220158681477695e-05\n",
      "INFO:tensorflow:Assets written to: C:\\Users\\aleks\\AppData\\Local\\Temp\\tmpz61etxx6\\model\\data\\model\\assets\n",
      "32/32 [==============================] - 0s 2ms/step - loss: 5.3153\n"
     ]
    },
    {
     "name": "stderr",
     "output_type": "stream",
     "text": [
      "\u001b[32m[I 2022-01-25 13:15:26,566]\u001b[0m Trial 3 finished with value: 5.3152995109558105 and parameters: {'lr': 4.1220158681477695e-05}. Best is trial 1 with value: 4.3712968826293945.\u001b[0m\n"
     ]
    },
    {
     "name": "stdout",
     "output_type": "stream",
     "text": [
      "2.059485360066462e-06\n",
      "INFO:tensorflow:Assets written to: C:\\Users\\aleks\\AppData\\Local\\Temp\\tmpkrvosk9l\\model\\data\\model\\assets\n",
      "32/32 [==============================] - 0s 2ms/step - loss: 13.7350\n"
     ]
    },
    {
     "name": "stderr",
     "output_type": "stream",
     "text": [
      "\u001b[32m[I 2022-01-25 13:16:28,419]\u001b[0m Trial 4 finished with value: 13.735010147094727 and parameters: {'lr': 2.059485360066462e-06}. Best is trial 1 with value: 4.3712968826293945.\u001b[0m\n"
     ]
    }
   ],
   "source": [
    "study = optuna.create_study(direction='minimize')\n",
    "study.optimize(objective, n_trials=5)"
   ]
  },
  {
   "cell_type": "code",
   "execution_count": 11,
   "id": "0ce4993c",
   "metadata": {},
   "outputs": [
    {
     "data": {
      "text/plain": [
       "{'lr': 0.005001575647990362}"
      ]
     },
     "execution_count": 11,
     "metadata": {},
     "output_type": "execute_result"
    }
   ],
   "source": [
    "study.best_params"
   ]
  },
  {
   "cell_type": "code",
   "execution_count": 13,
   "id": "0915a4bf",
   "metadata": {},
   "outputs": [
    {
     "name": "stdout",
     "output_type": "stream",
     "text": [
      "0.005001575647990362\n",
      "32/32 [==============================] - 0s 2ms/step - loss: 3.9531\n"
     ]
    }
   ],
   "source": [
    "model = tf.keras.Sequential([\n",
    "\n",
    "    tf.keras.layers.Dense(\n",
    "        16, \n",
    "        input_shape=(1,),\n",
    "        kernel_initializer='lecun_normal',\n",
    "        activation='selu'),\n",
    "\n",
    "    tf.keras.layers.Dense(\n",
    "        32, \n",
    "        kernel_initializer='lecun_normal',\n",
    "        activation='selu'),\n",
    "\n",
    "    tf.keras.layers.Dense(\n",
    "        64, \n",
    "        kernel_initializer='lecun_normal',\n",
    "        activation='selu'),\n",
    "\n",
    "    tf.keras.layers.Dense(\n",
    "        16, \n",
    "        kernel_initializer='lecun_normal',\n",
    "        activation='selu'),\n",
    "\n",
    "    tf.keras.layers.Dense(1)\n",
    "\n",
    "])\n",
    "\n",
    "LEARNING_RATE = study.best_params['lr']\n",
    "print(LEARNING_RATE)\n",
    "\n",
    "model.compile(\n",
    "    loss='mse', \n",
    "    optimizer=tf.keras.optimizers.RMSprop(\n",
    "        learning_rate=LEARNING_RATE))\n",
    "\n",
    "callbacks = [\n",
    "    tf.keras.callbacks.EarlyStopping(patience=20, restore_best_weights=True),\n",
    "    tf.keras.callbacks.ReduceLROnPlateau(patience=4, factor=.5)\n",
    "]\n",
    "\n",
    "history = model.fit(\n",
    "    x_train, \n",
    "    y_train, \n",
    "    validation_data=(x_test, y_test),\n",
    "    epochs=100,\n",
    "    callbacks=callbacks,\n",
    "    verbose=0\n",
    ")\n",
    "\n",
    "test_metric = model.evaluate(x_test, y_test)"
   ]
  },
  {
   "cell_type": "code",
   "execution_count": null,
   "id": "88c24152",
   "metadata": {},
   "outputs": [],
   "source": []
  }
 ],
 "metadata": {
  "kernelspec": {
   "display_name": "Python [conda env:tf-opt-track]",
   "language": "python",
   "name": "conda-env-tf-opt-track-py"
  },
  "language_info": {
   "codemirror_mode": {
    "name": "ipython",
    "version": 3
   },
   "file_extension": ".py",
   "mimetype": "text/x-python",
   "name": "python",
   "nbconvert_exporter": "python",
   "pygments_lexer": "ipython3",
   "version": "3.7.11"
  }
 },
 "nbformat": 4,
 "nbformat_minor": 5
}
